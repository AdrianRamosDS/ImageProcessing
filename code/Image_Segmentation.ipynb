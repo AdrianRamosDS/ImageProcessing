{
 "cells": [
  {
   "cell_type": "markdown",
   "id": "a6ab4b3d",
   "metadata": {},
   "source": [
    "# Image Processing with PyTorch"
   ]
  },
  {
   "cell_type": "markdown",
   "id": "c3165557",
   "metadata": {},
   "source": [
    "Author: Adrian Ramos Perez\n",
    "    adrian.ramos@iteso.mx"
   ]
  },
  {
   "cell_type": "markdown",
   "id": "de90cdc1",
   "metadata": {},
   "source": [
    "Imports to work with dataframes:"
   ]
  },
  {
   "cell_type": "code",
   "execution_count": 9,
   "id": "5f7ed579",
   "metadata": {},
   "outputs": [],
   "source": []
  },
  {
   "cell_type": "code",
   "execution_count": 257,
   "id": "fdf2087d",
   "metadata": {},
   "outputs": [],
   "source": [
    "import os\n",
    "\n",
    "from skimage.io import (imread, imshow)\n",
    "from skimage.transform import resize\n",
    "import matplotlib.pyplot as plt\n",
    "\n",
    "from scipy import ndimage as ndi\n",
    "from scipy.ndimage import (measurements,center_of_mass,binary_dilation,zoom)"
   ]
  },
  {
   "cell_type": "code",
   "execution_count": null,
   "id": "9af71c29",
   "metadata": {},
   "outputs": [],
   "source": [
    "import numpy as np\n",
    "import pandas as pd"
   ]
  },
  {
   "cell_type": "code",
   "execution_count": 247,
   "id": "ad63e1db",
   "metadata": {},
   "outputs": [],
   "source": [
    "import plotly.graph_objects as go"
   ]
  },
  {
   "cell_type": "code",
   "execution_count": 6,
   "id": "ed32db1b",
   "metadata": {},
   "outputs": [],
   "source": [
    "# Pytorch imports:\n",
    "import torch\n",
    "import torch.nn as nn\n",
    "import torch.nn.functional as F"
   ]
  },
  {
   "cell_type": "code",
   "execution_count": 7,
   "id": "2efdefc8",
   "metadata": {},
   "outputs": [],
   "source": [
    "# Tqdm for display progress bar:\n",
    "from tqdm import tqdm"
   ]
  },
  {
   "cell_type": "markdown",
   "id": "9ce28ca5",
   "metadata": {},
   "source": [
    "Tensorflow imports:"
   ]
  },
  {
   "cell_type": "code",
   "execution_count": 56,
   "id": "ce9171df",
   "metadata": {},
   "outputs": [],
   "source": [
    "import tensorflow as tf\n",
    "from tensorflow import keras as tf_ks\n",
    "import tensorflow.keras.models\n",
    "import tensorflow.keras.layers as tk_ks_l\n",
    "import tensorflow.keras.optimizers"
   ]
  },
  {
   "cell_type": "code",
   "execution_count": 208,
   "id": "b8c1b88b",
   "metadata": {},
   "outputs": [],
   "source": [
    "## General variables:\n",
    "img_width, img_height, img_channels = 128, 128, 1\n",
    "TRAIN_PATH, TEST_PATH = '../data/CT/train/',''\n",
    "path = '../data/CT/train/'\n",
    "train_ids = next(os.walk(TRAIN_PATH))[1]"
   ]
  },
  {
   "cell_type": "code",
   "execution_count": 71,
   "id": "9ad8aedb",
   "metadata": {},
   "outputs": [
    {
     "data": {
      "text/plain": [
       "400"
      ]
     },
     "execution_count": 71,
     "metadata": {},
     "output_type": "execute_result"
    }
   ],
   "source": [
    "img_num = 400\n",
    "img_num"
   ]
  },
  {
   "cell_type": "markdown",
   "id": "9d55900a",
   "metadata": {},
   "source": [
    "## Images dataset Loading "
   ]
  },
  {
   "cell_type": "markdown",
   "id": "2a4707e8",
   "metadata": {},
   "source": [
    "#### Loading image from numpy format (faster and better):"
   ]
  },
  {
   "cell_type": "code",
   "execution_count": 86,
   "id": "e02fc579",
   "metadata": {},
   "outputs": [
    {
     "data": {
      "text/plain": [
       "(400, 128, 128, 3)"
      ]
     },
     "execution_count": 86,
     "metadata": {},
     "output_type": "execute_result"
    }
   ],
   "source": [
    "npy_img = np.load('CT_data.npy')\n",
    "npy_img.shape"
   ]
  },
  {
   "cell_type": "markdown",
   "id": "43bc83c2",
   "metadata": {},
   "source": [
    "#### Loading images from .png files:"
   ]
  },
  {
   "cell_type": "code",
   "execution_count": 74,
   "id": "6d0f2b10",
   "metadata": {},
   "outputs": [
    {
     "data": {
      "text/plain": [
       "(400, 128, 128, 3)"
      ]
     },
     "execution_count": 74,
     "metadata": {},
     "output_type": "execute_result"
    }
   ],
   "source": [
    "img_arr = np.zeros((img_num, img_height, img_width, img_channels), dtype=np.uint8)\n",
    "img_arr.shape"
   ]
  },
  {
   "cell_type": "markdown",
   "id": "78fb647c",
   "metadata": {},
   "source": [
    "Read all the files in the directory and resize them to 128x128x3"
   ]
  },
  {
   "cell_type": "code",
   "execution_count": 266,
   "id": "98d825e3",
   "metadata": {},
   "outputs": [
    {
     "name": "stderr",
     "output_type": "stream",
     "text": [
      "100%|████████████████████████████████████████████████████████████████████████████████| 400/400 [00:11<00:00, 36.35it/s]\n"
     ]
    },
    {
     "data": {
      "text/plain": [
       "(400, 128, 128, 3)"
      ]
     },
     "execution_count": 266,
     "metadata": {},
     "output_type": "execute_result"
    }
   ],
   "source": [
    "id_=0\n",
    "tst = 0\n",
    "for n in tqdm(range(400)):#enumerate(train_ids), total=len(train_ids)):\n",
    "    \n",
    "    if(id_<10):\n",
    "        img = imread(path+'00'+str(id_)+'.png')[:,:,:img_channels]\n",
    "    elif(100<=id_):\n",
    "        img = imread(path+str(id_)+'.png')[:,:,:img_channels]\n",
    "    else:\n",
    "        img = imread(path+'0'+str(id_)+'.png')[:,:,:img_channels]\n",
    "    tst = img   \n",
    "    img_arr[n] = resize(img, (img_height, img_width), mode='constant', preserve_range=True)\n",
    "    id_+=1\n",
    "img_arr.shape"
   ]
  },
  {
   "cell_type": "markdown",
   "id": "9ff9df7a",
   "metadata": {},
   "source": [
    "Loading random image from the set:"
   ]
  },
  {
   "cell_type": "code",
   "execution_count": 210,
   "id": "333ba141",
   "metadata": {},
   "outputs": [
    {
     "data": {
      "text/plain": [
       "133"
      ]
     },
     "execution_count": 210,
     "metadata": {},
     "output_type": "execute_result"
    }
   ],
   "source": [
    "rint = np.random.randint(img_num)\n",
    "rint"
   ]
  },
  {
   "cell_type": "code",
   "execution_count": 211,
   "id": "3f6fbd6a",
   "metadata": {
    "scrolled": true
   },
   "outputs": [
    {
     "data": {
      "text/plain": [
       "(128, 128, 3)"
      ]
     },
     "execution_count": 211,
     "metadata": {},
     "output_type": "execute_result"
    },
    {
     "data": {
      "image/png": "[encoded data removed]",
      "text/plain": [
       "<Figure size 432x288 with 1 Axes>"
      ]
     },
     "metadata": {
      "needs_background": "light"
     },
     "output_type": "display_data"
    }
   ],
   "source": [
    "imshow(img_arr[rint])\n",
    "img_arr[rint].shape"
   ]
  },
  {
   "cell_type": "code",
   "execution_count": 267,
   "id": "a32e1300",
   "metadata": {},
   "outputs": [
    {
     "data": {
      "text/plain": [
       "(400, 128, 128, 1)"
      ]
     },
     "execution_count": 267,
     "metadata": {},
     "output_type": "execute_result"
    }
   ],
   "source": [
    "img_arr_re = resize(img_arr[rint], (400, img_height, img_width,1), mode='constant', preserve_range=True)\n",
    "img_arr_re.shape"
   ]
  },
  {
   "cell_type": "code",
   "execution_count": 233,
   "id": "6643b27c",
   "metadata": {},
   "outputs": [
    {
     "data": {
      "text/plain": [
       "<matplotlib.colorbar.Colorbar at 0x1eca9561a88>"
      ]
     },
     "execution_count": 233,
     "metadata": {},
     "output_type": "execute_result"
    },
    {
     "data": {
      "image/png": "[encoded data removed]",
      "text/plain": [
       "<Figure size 432x288 with 2 Axes>"
      ]
     },
     "metadata": {
      "needs_background": "light"
     },
     "output_type": "display_data"
    }
   ],
   "source": [
    "plt.pcolormesh(img_arr[rint][:,:,0] )\n",
    "plt.colorbar()"
   ]
  },
  {
   "cell_type": "markdown",
   "id": "069e0b02",
   "metadata": {},
   "source": [
    "Dump image array into a numpy file format to load faster nex time:"
   ]
  },
  {
   "cell_type": "code",
   "execution_count": 83,
   "id": "3accc999",
   "metadata": {},
   "outputs": [],
   "source": [
    "np.save('CT_data.npy', img_arr)"
   ]
  },
  {
   "cell_type": "markdown",
   "id": "6d19fce6",
   "metadata": {},
   "source": [
    "## Mask generation\n",
    "For each CT slide a mask shall be generated:"
   ]
  },
  {
   "cell_type": "markdown",
   "id": "6b72f766",
   "metadata": {},
   "source": [
    "First, lets generate a multidimensional matrix with the following structure: \n",
    "<br> (**number of images** x **height** x **width** x **number of channels**):"
   ]
  },
  {
   "cell_type": "code",
   "execution_count": 311,
   "id": "8000fa79",
   "metadata": {},
   "outputs": [
    {
     "data": {
      "text/plain": [
       "(400, 128, 128)"
      ]
     },
     "execution_count": 311,
     "metadata": {},
     "output_type": "execute_result"
    },
    {
     "data": {
      "image/png": "[encoded data removed]",
      "text/plain": [
       "<Figure size 432x288 with 1 Axes>"
      ]
     },
     "metadata": {
      "needs_background": "light"
     },
     "output_type": "display_data"
    }
   ],
   "source": [
    "mask_arr = np.zeros((img_num, img_height, img_width), dtype=bool)\n",
    "imshow(mask_arr[rint])\n",
    "mask_arr.shape"
   ]
  },
  {
   "cell_type": "code",
   "execution_count": 304,
   "id": "5a078095",
   "metadata": {},
   "outputs": [
    {
     "data": {
      "text/plain": [
       "<matplotlib.image.AxesImage at 0x1ecaaed3d08>"
      ]
     },
     "execution_count": 304,
     "metadata": {},
     "output_type": "execute_result"
    },
    {
     "data": {
      "image/png": "[encoded data removed]",
      "text/plain": [
       "<Figure size 432x288 with 2 Axes>"
      ]
     },
     "metadata": {
      "needs_background": "light"
     },
     "output_type": "display_data"
    }
   ],
   "source": [
    "mask_ = imread(path+'00'+str(id_)+'_mask'+'.png')\n",
    "mask_ = resize(mask_, (img_height, img_width), mode='constant', preserve_range=True)\n",
    "\n",
    "mask_.shape\n",
    "t = np.maximum(mask_arr[0][:,:,0],mask_)\n",
    "imshow(t)"
   ]
  },
  {
   "cell_type": "code",
   "execution_count": 314,
   "id": "940b94e7",
   "metadata": {
    "scrolled": true
   },
   "outputs": [
    {
     "name": "stderr",
     "output_type": "stream",
     "text": [
      "100%|████████████████████████████████████████████████████████████████████████████████| 400/400 [00:06<00:00, 61.54it/s]\n"
     ]
    }
   ],
   "source": [
    "id_ = 0\n",
    "for n in tqdm(range(400)):#enumerate(train_ids), total=len(train_ids)):\n",
    "    \n",
    "    mask = np.zeros((img_height, img_width), dtype=bool)\n",
    "    mask_ = 0\n",
    "    if(id_<10):\n",
    "        mask_ = imread(path+'00'+str(id_)+'_mask'+'.png')\n",
    "    elif(100<=id_):\n",
    "        mask_ = imread(path+str(id_)+'_mask'+'.png')\n",
    "    else:\n",
    "        mask_ = imread(path+'0'+str(id_)+'_mask'+'.png')\n",
    "        \n",
    "    mask_ = resize(mask_, (img_height, img_width), mode='constant', preserve_range=True)\n",
    "    mask_arr[n][:,:] = np.maximum(mask, mask_)\n",
    "    id_+=1\n",
    "mask_arr.shape\n",
    "#imshow(mask_arr[rint][:,:])"
   ]
  },
  {
   "cell_type": "code",
   "execution_count": 322,
   "id": "7cc43ea4",
   "metadata": {},
   "outputs": [],
   "source": [
    "mask_arr = mask_arr.astype(int)"
   ]
  },
  {
   "cell_type": "code",
   "execution_count": 327,
   "id": "375898e3",
   "metadata": {},
   "outputs": [
    {
     "data": {
      "text/plain": [
       "<matplotlib.image.AxesImage at 0x1ecaaffe608>"
      ]
     },
     "execution_count": 327,
     "metadata": {},
     "output_type": "execute_result"
    },
    {
     "data": {
      "image/png": "[encoded data removed]",
      "text/plain": [
       "<Figure size 432x288 with 2 Axes>"
      ]
     },
     "metadata": {
      "needs_background": "light"
     },
     "output_type": "display_data"
    }
   ],
   "source": [
    "imshow(mask_arr[rint])"
   ]
  },
  {
   "cell_type": "code",
   "execution_count": 62,
   "id": "f697a564",
   "metadata": {},
   "outputs": [
    {
     "name": "stderr",
     "output_type": "stream",
     "text": [
      "  0%|                                                                                          | 0/400 [00:00<?, ?it/s]\n"
     ]
    },
    {
     "ename": "AttributeError",
     "evalue": "'list' object has no attribute 'shape'",
     "output_type": "error",
     "traceback": [
      "\u001b[1;31m---------------------------------------------------------------------------\u001b[0m",
      "\u001b[1;31mAttributeError\u001b[0m                            Traceback (most recent call last)",
      "\u001b[1;32mC:\\Users\\adria\\AppData\\Local\\Temp/ipykernel_18480/1923662550.py\u001b[0m in \u001b[0;36m<module>\u001b[1;34m\u001b[0m\n\u001b[0;32m     11\u001b[0m         \u001b[0mimg\u001b[0m\u001b[1;33m[\u001b[0m\u001b[0mn\u001b[0m\u001b[1;33m]\u001b[0m \u001b[1;33m=\u001b[0m \u001b[0mimread\u001b[0m\u001b[1;33m(\u001b[0m\u001b[0mpath\u001b[0m\u001b[1;33m+\u001b[0m\u001b[1;34m'0'\u001b[0m\u001b[1;33m+\u001b[0m\u001b[0mstr\u001b[0m\u001b[1;33m(\u001b[0m\u001b[0mid_\u001b[0m\u001b[1;33m)\u001b[0m\u001b[1;33m+\u001b[0m\u001b[1;34m'.png'\u001b[0m\u001b[1;33m)\u001b[0m\u001b[1;33m[\u001b[0m\u001b[1;33m:\u001b[0m\u001b[1;33m,\u001b[0m\u001b[1;33m:\u001b[0m\u001b[1;33m,\u001b[0m\u001b[1;33m:\u001b[0m\u001b[0mimg_channels\u001b[0m\u001b[1;33m]\u001b[0m\u001b[1;33m\u001b[0m\u001b[1;33m\u001b[0m\u001b[0m\n\u001b[0;32m     12\u001b[0m \u001b[1;33m\u001b[0m\u001b[0m\n\u001b[1;32m---> 13\u001b[1;33m     \u001b[0mimg\u001b[0m\u001b[1;33m[\u001b[0m\u001b[0mn\u001b[0m\u001b[1;33m]\u001b[0m \u001b[1;33m=\u001b[0m \u001b[0mresize\u001b[0m\u001b[1;33m(\u001b[0m\u001b[0mimg\u001b[0m\u001b[1;33m,\u001b[0m \u001b[1;33m(\u001b[0m\u001b[0mimg_height\u001b[0m\u001b[1;33m,\u001b[0m \u001b[0mimg_width\u001b[0m\u001b[1;33m)\u001b[0m\u001b[1;33m,\u001b[0m \u001b[0mmode\u001b[0m\u001b[1;33m=\u001b[0m\u001b[1;34m'constant'\u001b[0m\u001b[1;33m,\u001b[0m \u001b[0mpreserve_range\u001b[0m\u001b[1;33m=\u001b[0m\u001b[1;32mTrue\u001b[0m\u001b[1;33m)\u001b[0m\u001b[1;33m\u001b[0m\u001b[1;33m\u001b[0m\u001b[0m\n\u001b[0m\u001b[0;32m     14\u001b[0m     \u001b[0mid_\u001b[0m\u001b[1;33m+=\u001b[0m\u001b[1;36m1\u001b[0m\u001b[1;33m\u001b[0m\u001b[1;33m\u001b[0m\u001b[0m\n",
      "\u001b[1;32mC:\\Users\\adria\\Anaconda3\\lib\\site-packages\\skimage\\transform\\_warps.py\u001b[0m in \u001b[0;36mresize\u001b[1;34m(image, output_shape, order, mode, cval, clip, preserve_range, anti_aliasing, anti_aliasing_sigma)\u001b[0m\n\u001b[0;32m     91\u001b[0m     \u001b[0moutput_shape\u001b[0m \u001b[1;33m=\u001b[0m \u001b[0mtuple\u001b[0m\u001b[1;33m(\u001b[0m\u001b[0moutput_shape\u001b[0m\u001b[1;33m)\u001b[0m\u001b[1;33m\u001b[0m\u001b[1;33m\u001b[0m\u001b[0m\n\u001b[0;32m     92\u001b[0m     \u001b[0moutput_ndim\u001b[0m \u001b[1;33m=\u001b[0m \u001b[0mlen\u001b[0m\u001b[1;33m(\u001b[0m\u001b[0moutput_shape\u001b[0m\u001b[1;33m)\u001b[0m\u001b[1;33m\u001b[0m\u001b[1;33m\u001b[0m\u001b[0m\n\u001b[1;32m---> 93\u001b[1;33m     \u001b[0minput_shape\u001b[0m \u001b[1;33m=\u001b[0m \u001b[0mimage\u001b[0m\u001b[1;33m.\u001b[0m\u001b[0mshape\u001b[0m\u001b[1;33m\u001b[0m\u001b[1;33m\u001b[0m\u001b[0m\n\u001b[0m\u001b[0;32m     94\u001b[0m     \u001b[1;32mif\u001b[0m \u001b[0moutput_ndim\u001b[0m \u001b[1;33m>\u001b[0m \u001b[0mimage\u001b[0m\u001b[1;33m.\u001b[0m\u001b[0mndim\u001b[0m\u001b[1;33m:\u001b[0m\u001b[1;33m\u001b[0m\u001b[1;33m\u001b[0m\u001b[0m\n\u001b[0;32m     95\u001b[0m         \u001b[1;31m# append dimensions to input_shape\u001b[0m\u001b[1;33m\u001b[0m\u001b[1;33m\u001b[0m\u001b[1;33m\u001b[0m\u001b[0m\n",
      "\u001b[1;31mAttributeError\u001b[0m: 'list' object has no attribute 'shape'"
     ]
    }
   ],
   "source": [
    "id_ = 0\n",
    "for n in tqdm(range(400)):#enumerate(train_ids), total=len(train_ids)):\n",
    "    \n",
    "    mask = np.zeros((img_height, img_width, 1), dtype=bool)\n",
    "    \n",
    "    if(id_<10):\n",
    "        mask_ = imread(path+'00'+str(id_)+'_mask'+'.png')\n",
    "    elif(100<=id_):\n",
    "        mask_ = imread(path+str(id_)+'_mask'+'.png')\n",
    "    else:\n",
    "        mask_ = imread(path+'0'+str(id_)+'_mask'+'.png')\n",
    "        \n",
    "    mask_ = resize(mask_, (img_height, img_width, 1), mode='constant', preserve_range=True)\n",
    "    mask = np.maximum(mask, mask_)\n",
    "    Y_train[n] = mask\n",
    "    id_+=1\n",
    "mask"
   ]
  },
  {
   "cell_type": "code",
   "execution_count": 51,
   "id": "e4a7a626",
   "metadata": {},
   "outputs": [
    {
     "data": {
      "text/plain": [
       "(512, 512, 3)"
      ]
     },
     "execution_count": 51,
     "metadata": {},
     "output_type": "execute_result"
    }
   ],
   "source": [
    "img.shape"
   ]
  },
  {
   "cell_type": "code",
   "execution_count": 37,
   "id": "7c700a99",
   "metadata": {},
   "outputs": [
    {
     "name": "stderr",
     "output_type": "stream",
     "text": [
      "  0%|                                                                                          | 0/400 [00:00<?, ?it/s]\n"
     ]
    },
    {
     "ename": "NameError",
     "evalue": "name 'X_train' is not defined",
     "output_type": "error",
     "traceback": [
      "\u001b[1;31m---------------------------------------------------------------------------\u001b[0m",
      "\u001b[1;31mNameError\u001b[0m                                 Traceback (most recent call last)",
      "\u001b[1;32mC:\\Users\\adria\\AppData\\Local\\Temp/ipykernel_18480/1334776498.py\u001b[0m in \u001b[0;36m<module>\u001b[1;34m\u001b[0m\n\u001b[0;32m     15\u001b[0m \u001b[1;33m\u001b[0m\u001b[0m\n\u001b[0;32m     16\u001b[0m     \u001b[0mimg\u001b[0m \u001b[1;33m=\u001b[0m \u001b[0mresize\u001b[0m\u001b[1;33m(\u001b[0m\u001b[0mimg\u001b[0m\u001b[1;33m,\u001b[0m \u001b[1;33m(\u001b[0m\u001b[0mimg_height\u001b[0m\u001b[1;33m,\u001b[0m \u001b[0mimg_width\u001b[0m\u001b[1;33m)\u001b[0m\u001b[1;33m,\u001b[0m \u001b[0mmode\u001b[0m\u001b[1;33m=\u001b[0m\u001b[1;34m'constant'\u001b[0m\u001b[1;33m,\u001b[0m \u001b[0mpreserve_range\u001b[0m\u001b[1;33m=\u001b[0m\u001b[1;32mTrue\u001b[0m\u001b[1;33m)\u001b[0m\u001b[1;33m\u001b[0m\u001b[1;33m\u001b[0m\u001b[0m\n\u001b[1;32m---> 17\u001b[1;33m     \u001b[0mX_train\u001b[0m\u001b[1;33m[\u001b[0m\u001b[0mn\u001b[0m\u001b[1;33m]\u001b[0m \u001b[1;33m=\u001b[0m \u001b[0mimg\u001b[0m\u001b[1;33m\u001b[0m\u001b[1;33m\u001b[0m\u001b[0m\n\u001b[0m\u001b[0;32m     18\u001b[0m \u001b[1;33m\u001b[0m\u001b[0m\n\u001b[0;32m     19\u001b[0m     \u001b[0mmask_\u001b[0m \u001b[1;33m=\u001b[0m \u001b[0mresize\u001b[0m\u001b[1;33m(\u001b[0m\u001b[0mmask_\u001b[0m\u001b[1;33m,\u001b[0m \u001b[1;33m(\u001b[0m\u001b[0mimg_height\u001b[0m\u001b[1;33m,\u001b[0m \u001b[0mimg_width\u001b[0m\u001b[1;33m,\u001b[0m \u001b[1;36m1\u001b[0m\u001b[1;33m)\u001b[0m\u001b[1;33m,\u001b[0m \u001b[0mmode\u001b[0m\u001b[1;33m=\u001b[0m\u001b[1;34m'constant'\u001b[0m\u001b[1;33m,\u001b[0m \u001b[0mpreserve_range\u001b[0m\u001b[1;33m=\u001b[0m\u001b[1;32mTrue\u001b[0m\u001b[1;33m)\u001b[0m\u001b[1;33m\u001b[0m\u001b[1;33m\u001b[0m\u001b[0m\n",
      "\u001b[1;31mNameError\u001b[0m: name 'X_train' is not defined"
     ]
    }
   ],
   "source": [
    "id_ = 0\n",
    "for n in tqdm(range(400)):#enumerate(train_ids), total=len(train_ids)):\n",
    "    \n",
    "    mask = np.zeros((img_height, img_width, 1), dtype=bool)\n",
    "    \n",
    "    if(id_<10):\n",
    "        img = imread(path+'00'+str(id_)+'.png')[:,:,:img_channels]\n",
    "        mask_ = imread(path+'00'+str(id_)+'_mask'+'.png')\n",
    "    elif(100<=id_):\n",
    "        img = imread(path+str(id_)+'.png')[:,:,:img_channels]\n",
    "        mask_ = imread(path+str(id_)+'_mask'+'.png')\n",
    "    else:\n",
    "        img = imread(path+'0'+str(id_)+'.png')[:,:,:img_channels]\n",
    "        mask_ = imread(path+'0'+str(id_)+'_mask'+'.png')\n",
    "       \n",
    "    img = resize(img, (img_height, img_width), mode='constant', preserve_range=True)\n",
    "    X_train[n] = img\n",
    "    \n",
    "    mask_ = resize(mask_, (img_height, img_width, 1), mode='constant', preserve_range=True)\n",
    "    mask = np.maximum(mask, mask_)\n",
    "    Y_train[n] = mask\n",
    "    id_+=1\n",
    "    "
   ]
  },
  {
   "cell_type": "markdown",
   "id": "57271526",
   "metadata": {},
   "source": [
    "## 3D MODEL"
   ]
  },
  {
   "cell_type": "code",
   "execution_count": 347,
   "id": "91cf54eb",
   "metadata": {},
   "outputs": [
    {
     "data": {
      "text/plain": [
       "(280, 90, 90)"
      ]
     },
     "execution_count": 347,
     "metadata": {},
     "output_type": "execute_result"
    }
   ],
   "source": [
    "mask_arr_zoom = zoom(1*(mask_arr[:][:,:]), (0.7,0.7,0.7))\n",
    "mask_arr_zoom.shape"
   ]
  },
  {
   "cell_type": "code",
   "execution_count": 348,
   "id": "b1736b86",
   "metadata": {},
   "outputs": [],
   "source": [
    "z,y,x = [np.arange(i)for i in mask_arr_zoom.shape ]\n",
    "z*=4"
   ]
  },
  {
   "cell_type": "code",
   "execution_count": 349,
   "id": "b35257c9",
   "metadata": {},
   "outputs": [],
   "source": [
    "X,Y,Z = np.meshgrid(x,y,z, indexing='ij')"
   ]
  },
  {
   "cell_type": "code",
   "execution_count": 350,
   "id": "d14431a6",
   "metadata": {},
   "outputs": [],
   "source": [
    "fig = go.Figure(data=go.Volume(\n",
    "    x=X.flatten(),\n",
    "    y=Y.flatten(),\n",
    "    z=Z.flatten(),\n",
    "    value=np.transpose(mask_arr_zoom,(1,2,0)).flatten(),\n",
    "    isomin=0.1,\n",
    "    opacity=0.1,\n",
    "    surface_count=17,\n",
    "))\n",
    "fig.write_html(\"../data/tst.html\")"
   ]
  },
  {
   "cell_type": "markdown",
   "id": "f1ebb79c",
   "metadata": {},
   "source": [
    "## Neural Model creation"
   ]
  },
  {
   "cell_type": "markdown",
   "id": "423afa71",
   "metadata": {},
   "source": [
    "For reference:\n",
    "https://pytorch.org/docs/stable/generated/torch.nn.Module.html#torch.nn.Module"
   ]
  },
  {
   "cell_type": "markdown",
   "id": "0db67073",
   "metadata": {},
   "source": [
    "Input vector(matrix) X:"
   ]
  },
  {
   "cell_type": "code",
   "execution_count": 204,
   "id": "17d9fc45",
   "metadata": {},
   "outputs": [
    {
     "data": {
      "text/plain": [
       "array([], shape=(0, 128, 128, 3), dtype=uint8)"
      ]
     },
     "execution_count": 204,
     "metadata": {},
     "output_type": "execute_result"
    }
   ],
   "source": [
    "X_train = np.zeros((len(train_ids), img_height, img_width, img_channels), dtype=np.uint8)\n",
    "X_train"
   ]
  },
  {
   "cell_type": "code",
   "execution_count": 205,
   "id": "5e26bd9d",
   "metadata": {},
   "outputs": [
    {
     "data": {
      "text/plain": [
       "<matplotlib.image.AxesImage at 0x1eca93e8f48>"
      ]
     },
     "execution_count": 205,
     "metadata": {},
     "output_type": "execute_result"
    },
    {
     "data": {
      "image/png": "[encoded data removed]",
      "text/plain": [
       "<Figure size 432x288 with 1 Axes>"
      ]
     },
     "metadata": {
      "needs_background": "light"
     },
     "output_type": "display_data"
    }
   ],
   "source": [
    "X_train = img_arr\n",
    "imshow(X_train[rint])"
   ]
  },
  {
   "cell_type": "markdown",
   "id": "31c3205f",
   "metadata": {},
   "source": [
    "Output vector:"
   ]
  },
  {
   "cell_type": "code",
   "execution_count": 59,
   "id": "97b33949",
   "metadata": {},
   "outputs": [
    {
     "data": {
      "text/plain": [
       "array([], shape=(0, 128, 128, 1), dtype=uint8)"
      ]
     },
     "execution_count": 59,
     "metadata": {},
     "output_type": "execute_result"
    }
   ],
   "source": [
    "Y_train = np.zeros((len(train_ids), img_height, img_width, 1), dtype=np.uint8)\n",
    "Y_train"
   ]
  },
  {
   "cell_type": "code",
   "execution_count": null,
   "id": "311469d7",
   "metadata": {},
   "outputs": [],
   "source": [
    "Y_train = "
   ]
  },
  {
   "cell_type": "code",
   "execution_count": 5,
   "id": "9465b56e",
   "metadata": {},
   "outputs": [],
   "source": [
    "class Net(torch.nn.Module):\n",
    "    def __init__(self, in_num, out,_num):\n",
    "        super(Net, self).__init__()\n",
    "        "
   ]
  },
  {
   "cell_type": "code",
   "execution_count": 6,
   "id": "7dde54ee",
   "metadata": {},
   "outputs": [
    {
     "ename": "TypeError",
     "evalue": "__init__() missing 3 required positional arguments: 'in_num', 'out', and '_num'",
     "output_type": "error",
     "traceback": [
      "\u001b[1;31m---------------------------------------------------------------------------\u001b[0m",
      "\u001b[1;31mTypeError\u001b[0m                                 Traceback (most recent call last)",
      "\u001b[1;32mC:\\Users\\adria\\AppData\\Local\\Temp/ipykernel_36084/2702615975.py\u001b[0m in \u001b[0;36m<module>\u001b[1;34m\u001b[0m\n\u001b[1;32m----> 1\u001b[1;33m \u001b[0mmodel\u001b[0m \u001b[1;33m=\u001b[0m \u001b[0mNet\u001b[0m\u001b[1;33m(\u001b[0m\u001b[1;33m)\u001b[0m\u001b[1;33m\u001b[0m\u001b[1;33m\u001b[0m\u001b[0m\n\u001b[0m",
      "\u001b[1;31mTypeError\u001b[0m: __init__() missing 3 required positional arguments: 'in_num', 'out', and '_num'"
     ]
    }
   ],
   "source": [
    "model = Net()"
   ]
  },
  {
   "cell_type": "markdown",
   "id": "ecdb82fa",
   "metadata": {},
   "source": [
    "# Saving and exporting model"
   ]
  },
  {
   "cell_type": "markdown",
   "id": "a0f75a7e",
   "metadata": {},
   "source": [
    "Dump model into pickle file:"
   ]
  },
  {
   "cell_type": "code",
   "execution_count": 7,
   "id": "8a8665f5",
   "metadata": {},
   "outputs": [
    {
     "ename": "NameError",
     "evalue": "name 'model' is not defined",
     "output_type": "error",
     "traceback": [
      "\u001b[1;31m---------------------------------------------------------------------------\u001b[0m",
      "\u001b[1;31mNameError\u001b[0m                                 Traceback (most recent call last)",
      "\u001b[1;32mC:\\Users\\adria\\AppData\\Local\\Temp/ipykernel_36084/3891077346.py\u001b[0m in \u001b[0;36m<module>\u001b[1;34m\u001b[0m\n\u001b[1;32m----> 1\u001b[1;33m \u001b[0mtorch\u001b[0m\u001b[1;33m.\u001b[0m\u001b[0msave\u001b[0m\u001b[1;33m(\u001b[0m\u001b[0mmodel\u001b[0m\u001b[1;33m,\u001b[0m \u001b[1;34m\"mpg.pkl\"\u001b[0m\u001b[1;33m)\u001b[0m\u001b[1;33m\u001b[0m\u001b[1;33m\u001b[0m\u001b[0m\n\u001b[0m",
      "\u001b[1;31mNameError\u001b[0m: name 'model' is not defined"
     ]
    }
   ],
   "source": [
    "torch.save(model, \"mpg.pkl\")"
   ]
  },
  {
   "cell_type": "markdown",
   "id": "e6b4911a",
   "metadata": {},
   "source": [
    "Loading a model:"
   ]
  },
  {
   "cell_type": "code",
   "execution_count": 11,
   "id": "9aadbaca",
   "metadata": {},
   "outputs": [
    {
     "name": "stdout",
     "output_type": "stream",
     "text": [
      "12345678911.1\n"
     ]
    }
   ],
   "source": [
    "n = 11\n",
    "var = 0\n",
    "exp = 10**(n-1)\n",
    "for i in range(1,n+1):\n",
    "    if i < 9:\n",
    "        var += i*exp\n",
    "        exp = 10**(n-1-i)\n",
    "    else:\n",
    "        \n",
    "        var += i*exp\n",
    "        exp = 10**(n-2-i)\n",
    "    \n",
    "print(var)"
   ]
  },
  {
   "cell_type": "code",
   "execution_count": 13,
   "id": "6ebe17ec",
   "metadata": {},
   "outputs": [
    {
     "data": {
      "text/plain": [
       "1.968482948553935"
      ]
     },
     "execution_count": 13,
     "metadata": {},
     "output_type": "execute_result"
    }
   ],
   "source": [
    "import math\n",
    "math.log10(93)"
   ]
  },
  {
   "cell_type": "code",
   "execution_count": null,
   "id": "116acaa4",
   "metadata": {},
   "outputs": [],
   "source": []
  },
  {
   "cell_type": "code",
   "execution_count": null,
   "id": "2f9b7173",
   "metadata": {},
   "outputs": [],
   "source": []
  },
  {
   "cell_type": "code",
   "execution_count": null,
   "id": "41c00683",
   "metadata": {},
   "outputs": [],
   "source": []
  },
  {
   "cell_type": "code",
   "execution_count": null,
   "id": "14e22ed5",
   "metadata": {},
   "outputs": [],
   "source": []
  },
  {
   "cell_type": "code",
   "execution_count": null,
   "id": "326ff3fb",
   "metadata": {},
   "outputs": [],
   "source": []
  }
 ],
 "metadata": {
  "kernelspec": {
   "display_name": "Python 3 (ipykernel)",
   "language": "python",
   "name": "python3"
  },
  "language_info": {
   "codemirror_mode": {
    "name": "ipython",
    "version": 3
   },
   "file_extension": ".py",
   "mimetype": "text/x-python",
   "name": "python",
   "nbconvert_exporter": "python",
   "pygments_lexer": "ipython3",
   "version": "3.7.11"
  }
 },
 "nbformat": 4,
 "nbformat_minor": 5
}
